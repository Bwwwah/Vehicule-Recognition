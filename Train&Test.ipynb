{
 "cells": [
  {
   "cell_type": "markdown",
   "id": "fd54b889-ac5f-408a-a528-1425aba37f1e",
   "metadata": {},
   "source": [
    "# Train & Test "
   ]
  },
  {
   "cell_type": "markdown",
   "id": "2e64a756-e4a1-49c0-99f0-dbeddb0e94fa",
   "metadata": {},
   "source": [
    "Dans ce notebook nous allons entrainer et tester des modèles pour de la détection d'objet. Pour cela nous allons utiliser des images labellisés provenant d'une caméra de surveillance sur un axe routier."
   ]
  },
  {
   "cell_type": "markdown",
   "id": "80c8493a-c032-48e6-a448-a9a826b24009",
   "metadata": {},
   "source": [
    "--------------"
   ]
  },
  {
   "cell_type": "markdown",
   "id": "0a6ef05b-1078-4cbc-87bf-d83aa30cfe72",
   "metadata": {},
   "source": [
    "## Installation des prérequis"
   ]
  },
  {
   "cell_type": "code",
   "execution_count": 1,
   "id": "5a387f5d-e2bd-4947-be65-3ced901a133b",
   "metadata": {},
   "outputs": [
    {
     "name": "stdout",
     "output_type": "stream",
     "text": [
      "Looking in indexes: https://download.pytorch.org/whl/nightly/cpu\n",
      "Requirement already satisfied: torch in /Users/bwwwah/miniconda3/envs/myenv/lib/python3.8/site-packages (2.5.0.dev20240620)\n",
      "Requirement already satisfied: torchvision in /Users/bwwwah/miniconda3/envs/myenv/lib/python3.8/site-packages (0.20.0.dev20240620)\n",
      "Requirement already satisfied: torchaudio in /Users/bwwwah/miniconda3/envs/myenv/lib/python3.8/site-packages (2.4.0.dev20240620)\n",
      "Requirement already satisfied: filelock in /Users/bwwwah/miniconda3/envs/myenv/lib/python3.8/site-packages (from torch) (3.13.1)\n",
      "Requirement already satisfied: typing-extensions>=4.8.0 in /Users/bwwwah/miniconda3/envs/myenv/lib/python3.8/site-packages (from torch) (4.11.0)\n",
      "Requirement already satisfied: sympy in /Users/bwwwah/miniconda3/envs/myenv/lib/python3.8/site-packages (from torch) (1.12)\n",
      "Requirement already satisfied: networkx in /Users/bwwwah/miniconda3/envs/myenv/lib/python3.8/site-packages (from torch) (3.0rc1)\n",
      "Requirement already satisfied: jinja2 in /Users/bwwwah/miniconda3/envs/myenv/lib/python3.8/site-packages (from torch) (3.1.4)\n",
      "Requirement already satisfied: fsspec in /Users/bwwwah/miniconda3/envs/myenv/lib/python3.8/site-packages (from torch) (2024.2.0)\n",
      "Requirement already satisfied: numpy in /Users/bwwwah/miniconda3/envs/myenv/lib/python3.8/site-packages (from torchvision) (1.24.1)\n",
      "Requirement already satisfied: pillow!=8.3.*,>=5.3.0 in /Users/bwwwah/miniconda3/envs/myenv/lib/python3.8/site-packages (from torchvision) (9.3.0)\n",
      "Requirement already satisfied: MarkupSafe>=2.0 in /Users/bwwwah/miniconda3/envs/myenv/lib/python3.8/site-packages (from jinja2->torch) (2.1.3)\n",
      "Requirement already satisfied: mpmath>=0.19 in /Users/bwwwah/miniconda3/envs/myenv/lib/python3.8/site-packages (from sympy->torch) (1.2.1)\n",
      "Note: you may need to restart the kernel to use updated packages.\n"
     ]
    }
   ],
   "source": [
    "pip install --pre torch torchvision torchaudio --index-url https://download.pytorch.org/whl/nightly/cpu"
   ]
  },
  {
   "cell_type": "markdown",
   "id": "37139d44-06d9-49b7-808d-5b0b552c9c12",
   "metadata": {},
   "source": [
    "## Importation des Packages"
   ]
  },
  {
   "cell_type": "code",
   "execution_count": 4,
   "id": "d2a22faa-b2aa-4730-a1eb-a3ea73f61ad3",
   "metadata": {},
   "outputs": [],
   "source": [
    "import torch, torchvision\n",
    "import os\n",
    "import json\n",
    "from PIL import Image\n",
    "from torch.utils.data import Dataset, DataLoader\n",
    "from torchvision.transforms import v2"
   ]
  },
  {
   "cell_type": "markdown",
   "id": "d2aede74-8e10-4165-8803-e9456b785533",
   "metadata": {},
   "source": [
    "## Récupération du Dataset"
   ]
  },
  {
   "cell_type": "code",
   "execution_count": 10,
   "id": "a58ee634",
   "metadata": {},
   "outputs": [],
   "source": [
    "images_dir = 'Dataset/Images'\n",
    "labels_path = 'Dataset/labels/labels.json'"
   ]
  },
  {
   "cell_type": "markdown",
   "id": "b7105b29",
   "metadata": {},
   "source": [
    "### Classe custom pour le Dataset"
   ]
  },
  {
   "cell_type": "code",
   "execution_count": 6,
   "id": "96ce823f-cdbc-4dbd-959e-1cf098a732d3",
   "metadata": {},
   "outputs": [],
   "source": [
    "class CustomDataset(Dataset):\n",
    "    def __init__(self, images_dir, labels_path, transform=None):\n",
    "        self.images_dir = images_dir\n",
    "        with open(labels_path, 'r') as f:\n",
    "            self.labels = json.load(f)\n",
    "        self.transform = transform\n",
    "        self.image_names = [item['link'] for item in self.labels]\n",
    "        self.annotations = {item['link']: item['annotations'] for item in self.labels}\n",
    "\n",
    "    def __len__(self):\n",
    "        return len(self.image_names)\n",
    "\n",
    "    def __getitem__(self, idx):\n",
    "        image_name = self.image_names[idx]\n",
    "        img_path = os.path.join(self.images_dir, image_name)\n",
    "        image = Image.open(img_path).convert('RGB')\n",
    "\n",
    "        if self.transform:\n",
    "            image = self.transform(image)\n",
    "\n",
    "        annotations = self.annotations[image_name]\n",
    "        boxes = []\n",
    "        labels = []\n",
    "        for ann in annotations:\n",
    "            label = ann['labels'][0]  # Assuming one label per annotation\n",
    "            if label == \"Bicycle\":\n",
    "                label_id = 1\n",
    "            elif label == \"Car\":\n",
    "                label_id = 2\n",
    "            elif label == \"Pedestrian\":\n",
    "                label_id = 3\n",
    "            elif label == \"Motorbike\":\n",
    "                label_id = 4\n",
    "            elif label == \"Truck\":\n",
    "                label_id = 5\n",
    "            elif label == \"Bus\":\n",
    "                label_id = 6\n",
    "            elif label == \"Motor scooter\":\n",
    "                label_id = 7\n",
    "            elif label == \"Scooter\":\n",
    "                label_id = 8\n",
    "            else:\n",
    "                label_id = 0  # Background or unknown\n",
    "\n",
    "            x, y, width, height = ann['coordinates'].values()\n",
    "            boxes.append([x, y, x + width, y + height])\n",
    "            labels.append(label_id)"
   ]
  },
  {
   "cell_type": "markdown",
   "id": "f76002b4",
   "metadata": {},
   "source": [
    "### Transformations"
   ]
  },
  {
   "cell_type": "code",
   "execution_count": 8,
   "id": "1d0277c6-301a-4001-ac45-2506ec4f4073",
   "metadata": {},
   "outputs": [
    {
     "name": "stderr",
     "output_type": "stream",
     "text": [
      "/Users/bwwwah/miniconda3/envs/myenv/lib/python3.8/site-packages/torchvision/transforms/v2/_deprecated.py:42: UserWarning: The transform `ToTensor()` is deprecated and will be removed in a future release. Instead, please use `v2.Compose([v2.ToImage(), v2.ToDtype(torch.float32, scale=True)])`.Output is equivalent up to float precision.\n",
      "  warnings.warn(\n"
     ]
    }
   ],
   "source": [
    "transform = v2.Compose([\n",
    "    v2.Resize((128, 128)),\n",
    "    v2.ToTensor(),\n",
    "    v2.ConvertImageDtype(torch.float32)\n",
    "])"
   ]
  },
  {
   "cell_type": "code",
   "execution_count": 11,
   "id": "ea631f91",
   "metadata": {},
   "outputs": [],
   "source": [
    "dataset = CustomDataset(images_dir, labels_path, transform=transform)\n",
    "dataloader = DataLoader(dataset, batch_size=32, shuffle=True)"
   ]
  },
  {
   "cell_type": "code",
   "execution_count": null,
   "id": "7e432855",
   "metadata": {},
   "outputs": [],
   "source": []
  }
 ],
 "metadata": {
  "kernelspec": {
   "display_name": "ProjetIA",
   "language": "python",
   "name": "myenv"
  },
  "language_info": {
   "codemirror_mode": {
    "name": "ipython",
    "version": 3
   },
   "file_extension": ".py",
   "mimetype": "text/x-python",
   "name": "python",
   "nbconvert_exporter": "python",
   "pygments_lexer": "ipython3",
   "version": "3.8.19"
  }
 },
 "nbformat": 4,
 "nbformat_minor": 5
}
